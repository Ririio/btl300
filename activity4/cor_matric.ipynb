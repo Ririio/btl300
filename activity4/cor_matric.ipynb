{
 "cells": [
  {
   "cell_type": "code",
   "execution_count": null,
   "metadata": {},
   "outputs": [],
   "source": [
    "# Import the necessary modules\n",
    "import pandas as pd "
   ]
  },
  {
   "cell_type": "code",
   "execution_count": null,
   "metadata": {},
   "outputs": [
    {
     "name": "stdout",
     "output_type": "stream",
     "text": [
      "            elo_i       pts   opp_pts\n",
      "elo_i    1.000000  0.090233 -0.147279\n",
      "pts      0.090233  1.000000  0.592491\n",
      "opp_pts -0.147279  0.592491  1.000000\n",
      "              y     elo_i\n",
      "y      1.000000  0.263089\n",
      "elo_i  0.263089  1.000000\n"
     ]
    }
   ],
   "source": [
    "nba = pd.read_csv('nbaallelo_slr.csv')# Code to read in nbaallelo_slr.csv\n",
    "\n",
    "print(nba[['elo_i', 'pts', 'opp_pts']].corr()) # Calculate the correlation matrix for the columns elo_i, pts, and opp_pts\n",
    "\n",
    "nba['y'] = nba['y'] =  nba['pts'] - nba['opp_pts'] # Create a new column in the data frame that is the difference between pts and opp_pts\n",
    "\n",
    "print(nba[['elo_i', 'y']].corr()) # Calculate the correlation matrix for elo_i and y"
   ]
  }
 ],
 "metadata": {
  "kernelspec": {
   "display_name": "base",
   "language": "python",
   "name": "python3"
  },
  "language_info": {
   "codemirror_mode": {
    "name": "ipython",
    "version": 3
   },
   "file_extension": ".py",
   "mimetype": "text/x-python",
   "name": "python",
   "nbconvert_exporter": "python",
   "pygments_lexer": "ipython3",
   "version": "3.12.2"
  }
 },
 "nbformat": 4,
 "nbformat_minor": 2
}
