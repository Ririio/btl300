{
 "cells": [
  {
   "cell_type": "code",
   "execution_count": null,
   "metadata": {},
   "outputs": [],
   "source": [
    "# Import the necessary modules\n",
    "import statsmodels.formula.api as smf\n",
    "import statsmodels.api as sm\n",
    "import pandas as pd "
   ]
  },
  {
   "cell_type": "code",
   "execution_count": 5,
   "metadata": {},
   "outputs": [
    {
     "name": "stdout",
     "output_type": "stream",
     "text": [
      "                sum_sq        df            F  PR(>F)\n",
      "elo_i     1.563923e+06       1.0  9392.933846     0.0\n",
      "Residual  2.103094e+07  126312.0          NaN     NaN\n"
     ]
    }
   ],
   "source": [
    "nba = pd.read_csv('nbaallelo_slr.csv') # Read in nbaallelo_slr.csv\n",
    "\n",
    "nba['y'] =  nba['pts'] - nba['opp_pts'] # Create a new column in the data frame that is the difference between pts and opp_pts\n",
    "\n",
    "results = smf.ols('y ~ elo_i', data=nba).fit() # Perform simple linear regression on y and elo_i using statsmodels ols\n",
    "\n",
    "aov_table = sm.stats.anova_lm(results, typ=2)# Create an analysis of variance table\n",
    "\n",
    "# Print the analysis of variance table\n",
    "print(aov_table)"
   ]
  }
 ],
 "metadata": {
  "kernelspec": {
   "display_name": "base",
   "language": "python",
   "name": "python3"
  },
  "language_info": {
   "codemirror_mode": {
    "name": "ipython",
    "version": 3
   },
   "file_extension": ".py",
   "mimetype": "text/x-python",
   "name": "python",
   "nbconvert_exporter": "python",
   "pygments_lexer": "ipython3",
   "version": "3.12.2"
  }
 },
 "nbformat": 4,
 "nbformat_minor": 2
}
