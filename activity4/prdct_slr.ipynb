{
 "cells": [
  {
   "cell_type": "code",
   "execution_count": 1,
   "metadata": {},
   "outputs": [],
   "source": [
    "import numpy as np\n",
    "import pandas as pd\n",
    "import statsmodels.formula.api as sms"
   ]
  },
  {
   "cell_type": "code",
   "execution_count": 13,
   "metadata": {},
   "outputs": [
    {
     "name": "stdout",
     "output_type": "stream",
     "text": [
      "0    61.865155\n",
      "dtype: float64\n"
     ]
    }
   ],
   "source": [
    "internet = pd.read_csv('internetusage.csv') # load the file internetusage.csv\n",
    "\n",
    "model = sms.ols('internet_usage ~ bachelors_degree', data=internet).fit() # fit a linear model using the sms.ols function and the internet dataframe\n",
    "\n",
    "bach_percent = float(input())\n",
    "\n",
    "new_data = pd.DataFrame({'bachelors_degree': [bach_percent]})\n",
    "prediction = model.predict(new_data)# use the model.predict function to find the predicted value for internet_usage using \n",
    "             # the bach_percent value for the predictor\n",
    "\n",
    "print(prediction)"
   ]
  }
 ],
 "metadata": {
  "kernelspec": {
   "display_name": "base",
   "language": "python",
   "name": "python3"
  },
  "language_info": {
   "codemirror_mode": {
    "name": "ipython",
    "version": 3
   },
   "file_extension": ".py",
   "mimetype": "text/x-python",
   "name": "python",
   "nbconvert_exporter": "python",
   "pygments_lexer": "ipython3",
   "version": "3.12.2"
  }
 },
 "nbformat": 4,
 "nbformat_minor": 2
}
