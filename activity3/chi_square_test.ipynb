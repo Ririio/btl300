{
 "cells": [
  {
   "cell_type": "code",
   "execution_count": 3,
   "metadata": {},
   "outputs": [],
   "source": [
    "# Import the necessary modules\n",
    "from scipy.stats import chi2_contingency\n"
   ]
  },
  {
   "cell_type": "markdown",
   "metadata": {},
   "source": [
    "| Freq | Tea | Coffee\n",
    "| --- | --- | --- |\n",
    "| < 5 / year |\t580 \t| 1019 |\n",
    "| 5 - 10 / year \t| 289 \t| 169 |\n",
    "| 1 - 3 / month |\t503 \t| 178 |\n",
    "| 1 - 4 / week |\t618 |\t208 |\n",
    "| 5 / week \t| 742 |\t1148 |"
   ]
  },
  {
   "cell_type": "code",
   "execution_count": 4,
   "metadata": {},
   "outputs": [
    {
     "name": "stdout",
     "output_type": "stream",
     "text": [
      "5.977792E+02\n",
      "4.686649E-128\n",
      "The hypothesis that tea and coffee are drunk with the same frequency is rejected.\n"
     ]
    }
   ],
   "source": [
    "# Construct a contingency table\n",
    "tea_coffee = [[580, 1019], [289, 169], [503, 178], [618, 208], [742, 1148]]\n",
    "\n",
    "chi2, p, df, ex = chi2_contingency(tea_coffee)# Calculate the test statistic and p-value\n",
    "\n",
    "print(f'{chi2:.6E}')\n",
    "print(f'{p:.6E}')\n",
    "\n",
    "# Determine if null hypothesis is rejected or not\n",
    "if p < 0.05: # Write appropriate if statement\n",
    "    print(\"The hypothesis that tea and coffee are drunk with the same frequency is rejected.\")\n",
    "else:\n",
    "    print(\"The hypothesis that tea and coffee are drunk with the same frequency is not rejected.\")"
   ]
  }
 ],
 "metadata": {
  "kernelspec": {
   "display_name": "base",
   "language": "python",
   "name": "python3"
  },
  "language_info": {
   "codemirror_mode": {
    "name": "ipython",
    "version": 3
   },
   "file_extension": ".py",
   "mimetype": "text/x-python",
   "name": "python",
   "nbconvert_exporter": "python",
   "pygments_lexer": "ipython3",
   "version": "3.12.2"
  }
 },
 "nbformat": 4,
 "nbformat_minor": 2
}
