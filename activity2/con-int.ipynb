{
 "cells": [
  {
   "cell_type": "code",
   "execution_count": 10,
   "metadata": {},
   "outputs": [],
   "source": [
    "# import the necessary modules\n",
    "import scipy.stats as st\n",
    "import numpy as np"
   ]
  },
  {
   "cell_type": "code",
   "execution_count": 11,
   "metadata": {},
   "outputs": [],
   "source": [
    "# Get user defined mean and standard deviation\n",
    "mean_def = int(input())\n",
    "sd_def = int(input())"
   ]
  },
  {
   "cell_type": "code",
   "execution_count": 12,
   "metadata": {},
   "outputs": [],
   "source": [
    "np.random.seed(seed=123)\n",
    "# Generate 100 random numbers with a normal distribution with a mean of mean_def and a standard deviation of sd_def\n",
    "r = st.norm.rvs(mean_def, sd_def, size=100)"
   ]
  },
  {
   "cell_type": "code",
   "execution_count": 13,
   "metadata": {},
   "outputs": [
    {
     "name": "stdout",
     "output_type": "stream",
     "text": [
      "Sample mean is 0.14\n"
     ]
    }
   ],
   "source": [
    "mean = r.mean() # Calculate the sample mean of r\n",
    "print(f'Sample mean is {mean:.2f}')"
   ]
  },
  {
   "cell_type": "code",
   "execution_count": 14,
   "metadata": {},
   "outputs": [],
   "source": [
    "# Calculate the standard error of r\n",
    "std_dev = r.std()# Calculate standard deviation of r\n",
    "stderr = std_dev/ np.sqrt(r.size)# Calculate standard error"
   ]
  },
  {
   "cell_type": "code",
   "execution_count": 16,
   "metadata": {},
   "outputs": [
    {
     "name": "stdout",
     "output_type": "stream",
     "text": [
      "(-0.97, 1.24)\n"
     ]
    }
   ],
   "source": [
    "int1 = st.norm.interval(0.95, mean, stderr) # Calculate the 95% confidence interval using the sample mean and standard error\n",
    "print(f'({int1[0]:.2f}, {int1[1]:.2f})')"
   ]
  },
  {
   "cell_type": "code",
   "execution_count": null,
   "metadata": {},
   "outputs": [
    {
     "name": "stdout",
     "output_type": "stream",
     "text": [
      "User defined mean, 0 , is within the 95% confidence interval\n"
     ]
    }
   ],
   "source": [
    "# Determine if the user defined mean falls within the 95% confidence interval\n",
    "if int1: # Finish the if statement\n",
    "    print(\"User defined mean,\", mean_def,\", is within the 95% confidence interval\")\n",
    "else:\n",
    "   print(\"User defined mean,\", mean_def,\", is not within the 95% confidence interval\")"
   ]
  }
 ],
 "metadata": {
  "kernelspec": {
   "display_name": "base",
   "language": "python",
   "name": "python3"
  },
  "language_info": {
   "codemirror_mode": {
    "name": "ipython",
    "version": 3
   },
   "file_extension": ".py",
   "mimetype": "text/x-python",
   "name": "python",
   "nbconvert_exporter": "python",
   "pygments_lexer": "ipython3",
   "version": "3.12.7"
  }
 },
 "nbformat": 4,
 "nbformat_minor": 2
}
