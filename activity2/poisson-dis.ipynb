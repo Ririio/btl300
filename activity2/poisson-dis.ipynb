{
 "cells": [
  {
   "cell_type": "code",
   "execution_count": 3,
   "metadata": {},
   "outputs": [],
   "source": [
    "import numpy as np\n",
    "# import the correct module and function\n",
    "from scipy.stats import poisson"
   ]
  },
  {
   "cell_type": "code",
   "execution_count": 1,
   "metadata": {},
   "outputs": [],
   "source": [
    "x = int(input())\n",
    "lam = int(input())"
   ]
  },
  {
   "cell_type": "code",
   "execution_count": null,
   "metadata": {},
   "outputs": [
    {
     "name": "stdout",
     "output_type": "stream",
     "text": [
      "[7 5 4 8 4 8 7 5]\n"
     ]
    }
   ],
   "source": [
    "np.random.seed(seed=123)\n",
    "\n",
    "\n",
    "r1 = poisson.rvs(lam, size=8)# Generate 8 random numbers with a Poisson distribution with a mean of lam\n",
    "\n",
    "r2 = poisson.rvs(lam, size=20) # Generate 20 random numbers with a Poisson distribution with a mean of lam\n",
    "\n",
    "r3 = poisson.rvs(lam, size=100)# Generate 100 random numbers with a Poisson distribution with a mean of lam"
   ]
  },
  {
   "cell_type": "code",
   "execution_count": 5,
   "metadata": {},
   "outputs": [
    {
     "name": "stdout",
     "output_type": "stream",
     "text": [
      "Cumulative probability is 0.124652\n"
     ]
    }
   ],
   "source": [
    "cp = poisson.cdf(x, lam) # Calculate the cumulative probability of x or fewer successes for a Poisson distribution with a mean of lam\n",
    "print(f'Cumulative probability is {cp:.6f}')"
   ]
  },
  {
   "cell_type": "code",
   "execution_count": 6,
   "metadata": {},
   "outputs": [
    {
     "name": "stdout",
     "output_type": "stream",
     "text": [
      "Theoretical mean is 5.0\n"
     ]
    }
   ],
   "source": [
    "mean_theor = poisson.stats(lam, moments='m') # Calculate the theoretical mean of the Poisson distribution\n",
    "print(\"Theoretical mean is\", mean_theor)"
   ]
  },
  {
   "cell_type": "code",
   "execution_count": 12,
   "metadata": {},
   "outputs": [
    {
     "name": "stdout",
     "output_type": "stream",
     "text": [
      "Mean of r1 is 6.000000\n"
     ]
    }
   ],
   "source": [
    "mean_r1 = np.mean(r1)# Calculate the actual mean of r1\n",
    "print(f'Mean of r1 is {mean_r1:.6f}')"
   ]
  },
  {
   "cell_type": "code",
   "execution_count": 13,
   "metadata": {},
   "outputs": [
    {
     "name": "stdout",
     "output_type": "stream",
     "text": [
      "Mean of r2 is 5.350000\n"
     ]
    }
   ],
   "source": [
    "mean_r2 = np.mean(r2)# Calculate the actual mean of r2\n",
    "print(f'Mean of r2 is {mean_r2:.6f}')"
   ]
  },
  {
   "cell_type": "code",
   "execution_count": 14,
   "metadata": {},
   "outputs": [
    {
     "name": "stdout",
     "output_type": "stream",
     "text": [
      "Mean of r3 is 5.130000\n"
     ]
    }
   ],
   "source": [
    "mean_r3 = np.mean(r3)# Calculate the actual mean of r3\n",
    "print(f'Mean of r3 is {mean_r3:.6f}')"
   ]
  }
 ],
 "metadata": {
  "kernelspec": {
   "display_name": "base",
   "language": "python",
   "name": "python3"
  },
  "language_info": {
   "codemirror_mode": {
    "name": "ipython",
    "version": 3
   },
   "file_extension": ".py",
   "mimetype": "text/x-python",
   "name": "python",
   "nbconvert_exporter": "python",
   "pygments_lexer": "ipython3",
   "version": "3.12.7"
  }
 },
 "nbformat": 4,
 "nbformat_minor": 2
}
