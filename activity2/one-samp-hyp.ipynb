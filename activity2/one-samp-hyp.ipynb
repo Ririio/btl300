{
 "cells": [
  {
   "cell_type": "code",
   "execution_count": 57,
   "metadata": {},
   "outputs": [],
   "source": [
    "# Import the correct modules\n",
    "import pandas as pd\n",
    "import statsmodels.stats.proportion as smp"
   ]
  },
  {
   "cell_type": "code",
   "execution_count": 58,
   "metadata": {},
   "outputs": [],
   "source": [
    "gpa = pd.read_csv('gpa.csv') # Read in gpa.csv\n",
    "df = pd.DataFrame(gpa) # Create a DataFrame from the csv"
   ]
  },
  {
   "cell_type": "code",
   "execution_count": 59,
   "metadata": {},
   "outputs": [],
   "source": [
    "value = float(input())\n",
    "cutoff = float(input())"
   ]
  },
  {
   "cell_type": "code",
   "execution_count": 66,
   "metadata": {},
   "outputs": [],
   "source": [
    "counts = len(gpa.loc[df['gpa'] > cutoff]) # Determine the number of students with a gpa higher than cutoff\n",
    "nobs = len(df.index) # Determine the total number of students"
   ]
  },
  {
   "cell_type": "code",
   "execution_count": 68,
   "metadata": {},
   "outputs": [
    {
     "name": "stdout",
     "output_type": "stream",
     "text": [
      "(-1.690999E-01, 8.657181E-01)\n"
     ]
    }
   ],
   "source": [
    "ztest = smp.proportions_ztest(counts, nobs, value, prop_var = False) # Perform z-test for counts, nobs, and value\n",
    "print(f'({ztest[0]:.6E}, {ztest[1]:.6E})')"
   ]
  },
  {
   "cell_type": "code",
   "execution_count": 62,
   "metadata": {},
   "outputs": [
    {
     "name": "stdout",
     "output_type": "stream",
     "text": [
      "The two-tailed p-value, 8.657724E-01, is greater than than α. Thus, insufficient evidence exists to support the hypothesis that the proportion is different from 0.5\n"
     ]
    }
   ],
   "source": [
    "# Determine the correct conclusion\n",
    "if ztest[1] < 0.05:\n",
    "    print(f'The two-tailed p-value, {ztest[1]:.6E}, is less than \\u03B1. Thus, sufficient evidence exists to support the hypothesis that the proportion is different from {value}')\n",
    "else:\n",
    "    print(f'The two-tailed p-value, {ztest[1]:.6E}, is greater than than \\u03B1. Thus, insufficient evidence exists to support the hypothesis that the proportion is different from {value}')\n"
   ]
  }
 ],
 "metadata": {
  "kernelspec": {
   "display_name": "base",
   "language": "python",
   "name": "python3"
  },
  "language_info": {
   "codemirror_mode": {
    "name": "ipython",
    "version": 3
   },
   "file_extension": ".py",
   "mimetype": "text/x-python",
   "name": "python",
   "nbconvert_exporter": "python",
   "pygments_lexer": "ipython3",
   "version": "3.12.7"
  }
 },
 "nbformat": 4,
 "nbformat_minor": 2
}
