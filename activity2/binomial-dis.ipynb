{
 "cells": [
  {
   "cell_type": "code",
   "execution_count": 3,
   "id": "51bf7653",
   "metadata": {},
   "outputs": [],
   "source": [
    "# Load the necessary module\n",
    "from scipy.stats import binom"
   ]
  },
  {
   "cell_type": "code",
   "execution_count": 4,
   "id": "cde95f51",
   "metadata": {},
   "outputs": [],
   "source": [
    "# Get user-defined number of successes\n",
    "k = int(input())"
   ]
  },
  {
   "cell_type": "code",
   "execution_count": 5,
   "id": "a02b5f41",
   "metadata": {},
   "outputs": [],
   "source": [
    "# Set the number of trials and the probability of success in each trial\n",
    "n = 100\n",
    "p = 0.5"
   ]
  },
  {
   "cell_type": "code",
   "execution_count": 6,
   "id": "aaab36bf",
   "metadata": {},
   "outputs": [
    {
     "name": "stdout",
     "output_type": "stream",
     "text": [
      "1.512525E-06\n"
     ]
    }
   ],
   "source": [
    "P = binom.pmf(k, n, p) # Calculate the probability of k successes given the defined n and p\n",
    "print(f'{P:.6E}')"
   ]
  },
  {
   "cell_type": "code",
   "execution_count": 7,
   "id": "b6c83dc2",
   "metadata": {},
   "outputs": [
    {
     "name": "stdout",
     "output_type": "stream",
     "text": [
      "50.00\n"
     ]
    }
   ],
   "source": [
    "mean  =  binom.stats(n, p, moments = 'm') # Return the mean of the distribution\n",
    "print(f'{mean:.2f}')"
   ]
  },
  {
   "cell_type": "code",
   "execution_count": 8,
   "id": "396a1565",
   "metadata": {},
   "outputs": [
    {
     "name": "stdout",
     "output_type": "stream",
     "text": [
      "25.00\n"
     ]
    }
   ],
   "source": [
    "var = binom.stats(n, p, moments='v') # Return the variance of the distribution \n",
    "print(f'{var:.2f}')"
   ]
  }
 ],
 "metadata": {
  "kernelspec": {
   "display_name": "base",
   "language": "python",
   "name": "python3"
  },
  "language_info": {
   "codemirror_mode": {
    "name": "ipython",
    "version": 3
   },
   "file_extension": ".py",
   "mimetype": "text/x-python",
   "name": "python",
   "nbconvert_exporter": "python",
   "pygments_lexer": "ipython3",
   "version": "3.12.7"
  }
 },
 "nbformat": 4,
 "nbformat_minor": 5
}
