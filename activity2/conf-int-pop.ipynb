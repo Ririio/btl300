{
 "cells": [
  {
   "cell_type": "code",
   "execution_count": 21,
   "metadata": {},
   "outputs": [],
   "source": [
    "# Import necessary modules\n",
    "import pandas as pd\n",
    "import scipy.stats as st"
   ]
  },
  {
   "cell_type": "code",
   "execution_count": 3,
   "metadata": {},
   "outputs": [],
   "source": [
    "age = int(input())"
   ]
  },
  {
   "cell_type": "code",
   "execution_count": 17,
   "metadata": {},
   "outputs": [
    {
     "name": "stdout",
     "output_type": "stream",
     "text": [
      "Sample proportion is 0.069876\n"
     ]
    }
   ],
   "source": [
    "titanic = pd.read_csv('titanic.csv')# Read csv file titanic.csv into data frame\n",
    "df = pd.DataFrame(titanic) # Create a data frame from the csv file\n",
    "\n",
    "south = titanic.loc[df['Embarked'] == 'S']# Take the subset of the data where Embarked = \"S\"\n",
    "\n",
    "n1 = len(south) # Find total number in subset\n",
    "\n",
    "x1 = len(south.loc[df['Age'] > age]) # Find number in subset where Age > age\n",
    "\n",
    "p1 = x1/(n1*1.0) # Calculate proportion\n",
    "print(f'Sample proportion is {p1:.6f}')"
   ]
  },
  {
   "cell_type": "code",
   "execution_count": 24,
   "metadata": {},
   "outputs": [
    {
     "name": "stdout",
     "output_type": "stream",
     "text": [
      "(0.050186, 0.089565)\n"
     ]
    }
   ],
   "source": [
    "stderr = (p1 * (1 - p1)/n1)**0.5# Calculate standard error\n",
    "\n",
    "conf_int = st.norm.interval(0.95, p1, stderr) # Find 95% confidence interval\n",
    "print(f'({conf_int[0]:.6f}, {conf_int[1]:.6f})')"
   ]
  },
  {
   "cell_type": "code",
   "execution_count": 31,
   "metadata": {},
   "outputs": [],
   "source": [
    "# Find proportion for full data\n",
    "n2 = len(titanic)# Count number in data set\n",
    "x2 = len(titanic.loc[df['Age'] > age])# Count number in full data set where Age > age\n",
    "p2 = x2/(n2*1.0)# Calculate proportion"
   ]
  },
  {
   "cell_type": "code",
   "execution_count": 32,
   "metadata": {},
   "outputs": [
    {
     "name": "stdout",
     "output_type": "stream",
     "text": [
      "Actual proportion, 0.071829, is within the 95% confidence interval\n"
     ]
    }
   ],
   "source": [
    "# Determine if the actual proportion falls within the 95% confidence interval\n",
    "if conf_int[0] <= p2 <= conf_int[1]:\n",
    "    print(f'Actual proportion, {p2:.6f}, is within the 95% confidence interval')\n",
    "else:\n",
    "    print(f'Actual proportion, {p2:.6f}, is not within the 95% confidence interval')"
   ]
  }
 ],
 "metadata": {
  "kernelspec": {
   "display_name": "base",
   "language": "python",
   "name": "python3"
  },
  "language_info": {
   "codemirror_mode": {
    "name": "ipython",
    "version": 3
   },
   "file_extension": ".py",
   "mimetype": "text/x-python",
   "name": "python",
   "nbconvert_exporter": "python",
   "pygments_lexer": "ipython3",
   "version": "3.12.7"
  }
 },
 "nbformat": 4,
 "nbformat_minor": 2
}
