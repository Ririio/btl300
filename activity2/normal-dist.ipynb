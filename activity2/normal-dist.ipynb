{
 "cells": [
  {
   "cell_type": "code",
   "execution_count": 1,
   "metadata": {},
   "outputs": [],
   "source": [
    "# import scipy.stats\n",
    "import scipy.stats as st"
   ]
  },
  {
   "cell_type": "code",
   "execution_count": 2,
   "metadata": {},
   "outputs": [],
   "source": [
    "# input two IQs, making sure that IQ1 is less than IQ2\n",
    "IQ1 = float(input())\n",
    "IQ2 = float(input())"
   ]
  },
  {
   "cell_type": "code",
   "execution_count": 7,
   "metadata": {},
   "outputs": [],
   "source": [
    "while IQ1 > IQ2:\n",
    "    print(\"IQ1 should be less than IQ2. Enter numbers again.\")\n",
    "    IQ1 = float(input())\n",
    "    IQ2 = float(input())"
   ]
  },
  {
   "cell_type": "code",
   "execution_count": 36,
   "metadata": {},
   "outputs": [
    {
     "name": "stdout",
     "output_type": "stream",
     "text": [
      "The probability that a randomly selected person \n",
      " has an IQ greater than or equal to 100.0 is 0.500000.\n"
     ]
    }
   ],
   "source": [
    "prob_al = st.norm.sf(IQ1, 100, 15) # Calculate the probability that a randomly selected person has an IQ greater than or equal to IQ1.\n",
    "print(f'The probability that a randomly selected person \\n has an IQ greater than or equal to {IQ1} is {prob_al:.6f}.')"
   ]
  },
  {
   "cell_type": "code",
   "execution_count": 37,
   "metadata": {},
   "outputs": [
    {
     "name": "stdout",
     "output_type": "stream",
     "text": [
      "The probability that a randomly selected person \n",
      " has an IQ less than or equal to 100.0 is 0.500000.\n"
     ]
    }
   ],
   "source": [
    "prob_am = st.norm.cdf(IQ1, 100, 15)# Calculate the probability that a randomly selected person has an IQ less than or equal to IQ1.\n",
    "print(f'The probability that a randomly selected person \\n has an IQ less than or equal to {IQ1} is {prob_am:.6f}.')\n"
   ]
  },
  {
   "cell_type": "code",
   "execution_count": 44,
   "metadata": {},
   "outputs": [
    {
     "name": "stdout",
     "output_type": "stream",
     "text": [
      "The probability that a randomly selected person \n",
      " has an IQ between 100.0 and 105.0 is 0.130559.\n"
     ]
    }
   ],
   "source": [
    "prob_bet = st.norm.cdf(IQ2, IQ1, 15) - st.norm.cdf(IQ1, IQ1, 15) # Calculate the probability that a randomly selected person has an IQ between IQ1 and IQ2\n",
    "print(f'The probability that a randomly selected person \\n has an IQ between {IQ1} and {IQ2} is {prob_bet:.6f}.')"
   ]
  }
 ],
 "metadata": {
  "kernelspec": {
   "display_name": "base",
   "language": "python",
   "name": "python3"
  },
  "language_info": {
   "codemirror_mode": {
    "name": "ipython",
    "version": 3
   },
   "file_extension": ".py",
   "mimetype": "text/x-python",
   "name": "python",
   "nbconvert_exporter": "python",
   "pygments_lexer": "ipython3",
   "version": "3.12.7"
  }
 },
 "nbformat": 4,
 "nbformat_minor": 2
}
