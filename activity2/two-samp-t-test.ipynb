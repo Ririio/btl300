{
 "cells": [
  {
   "cell_type": "code",
   "execution_count": 15,
   "metadata": {},
   "outputs": [],
   "source": [
    "# Import the necessary modules\n",
    "import pandas as pd\n",
    "import scipy.stats as st"
   ]
  },
  {
   "cell_type": "code",
   "execution_count": null,
   "metadata": {},
   "outputs": [
    {
     "name": "stdout",
     "output_type": "stream",
     "text": [
      "0       7.2500\n",
      "4       8.0500\n",
      "5       8.4583\n",
      "6      51.8625\n",
      "7      21.0750\n",
      "        ...   \n",
      "883    10.5000\n",
      "884     7.0500\n",
      "886    13.0000\n",
      "889    30.0000\n",
      "890     7.7500\n",
      "Name: Fare, Length: 577, dtype: float64\n"
     ]
    }
   ],
   "source": [
    "titanic = pd.read_csv('titanic.csv') # Read in the titanic.csv data set\n",
    "\n",
    "male = titanic[titanic['Sex'] == 'male'] # Subset on Sex = \"male\"\n",
    "female = titanic[titanic['Sex'] == 'female'] # Subset on Sex = \"female\""
   ]
  },
  {
   "cell_type": "code",
   "execution_count": 29,
   "metadata": {},
   "outputs": [
    {
     "name": "stdout",
     "output_type": "stream",
     "text": [
      "Ttest_indResult(statistic=-5.529140E+00, pvalue=4.230868E-08)\n"
     ]
    }
   ],
   "source": [
    "t_test_results = st.ttest_ind(male['Fare'], female['Fare'])# Use the correct t-test to compare values of Fare for both subsets\n",
    "print(f'Ttest_indResult(statistic={t_test_results[0]:.6E}, pvalue={t_test_results[1]:.6E})')"
   ]
  }
 ],
 "metadata": {
  "kernelspec": {
   "display_name": "base",
   "language": "python",
   "name": "python3"
  },
  "language_info": {
   "codemirror_mode": {
    "name": "ipython",
    "version": 3
   },
   "file_extension": ".py",
   "mimetype": "text/x-python",
   "name": "python",
   "nbconvert_exporter": "python",
   "pygments_lexer": "ipython3",
   "version": "3.12.7"
  }
 },
 "nbformat": 4,
 "nbformat_minor": 2
}
