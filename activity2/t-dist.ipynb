{
 "cells": [
  {
   "cell_type": "code",
   "execution_count": 1,
   "metadata": {},
   "outputs": [],
   "source": [
    "import scipy.stats as st\n",
    "import math\n",
    "# the math package is necessary because the expression for t uses the math.sqrt(x) function."
   ]
  },
  {
   "cell_type": "code",
   "execution_count": 2,
   "metadata": {},
   "outputs": [],
   "source": [
    "n = 50 # enter sample size\n",
    "pop_mean = 1.86 # enter population mean\n",
    "sam_mean = 2.1 # enter sample mean\n",
    "sd = 1.57 # enter standard deviation\n",
    "df = n - 1 # enter degrees of freedom"
   ]
  },
  {
   "cell_type": "code",
   "execution_count": 20,
   "metadata": {},
   "outputs": [],
   "source": [
    "t = (2.1 - 1.86)/(sd/math.sqrt(n))# write an expression to find the value of t. \n",
    "\n",
    "prob = st.t.sf(t, df) # use the st.t.sf function to find the probability"
   ]
  },
  {
   "cell_type": "code",
   "execution_count": 21,
   "metadata": {},
   "outputs": [
    {
     "name": "stdout",
     "output_type": "stream",
     "text": [
      "The probability that another 50 household sample will have a sample mean of at least 2.1 is 0.142510.\n"
     ]
    }
   ],
   "source": [
    "print(f'The probability that another 50 household sample will have a sample mean of at least 2.1 is {prob:.6f}.')"
   ]
  }
 ],
 "metadata": {
  "kernelspec": {
   "display_name": "base",
   "language": "python",
   "name": "python3"
  },
  "language_info": {
   "codemirror_mode": {
    "name": "ipython",
    "version": 3
   },
   "file_extension": ".py",
   "mimetype": "text/x-python",
   "name": "python",
   "nbconvert_exporter": "python",
   "pygments_lexer": "ipython3",
   "version": "3.12.7"
  }
 },
 "nbformat": 4,
 "nbformat_minor": 2
}
